{
 "cells": [
  {
   "cell_type": "code",
   "execution_count": 1,
   "metadata": {},
   "outputs": [],
   "source": [
    "#  A regression attempts to fit a of function to observed data to make predictions on new data.\n",
    "# A linear regression fits a straight line to observed data, attempting to demonstrate a linear relationship\n",
    "# between variables and make predictions on new data yet to be observed."
   ]
  },
  {
   "cell_type": "code",
   "execution_count": 3,
   "metadata": {},
   "outputs": [
    {
     "name": "stdout",
     "output_type": "stream",
     "text": [
      "m = [1.93939394]\n",
      "b = [4.73333333]\n"
     ]
    },
    {
     "data": {
      "image/png": "[encoded data removed]",
      "text/plain": [
       "<matplotlib.figure.Figure at 0x21b4e1a8208>"
      ]
     },
     "metadata": {},
     "output_type": "display_data"
    }
   ],
   "source": [
    "# Scikit-Learn to perform a basic, unvalidated linear regression on the sample of 10 dogs.\n",
    "from matplotlib import *\n",
    "import pandas as pd\n",
    "import matplotlib.pyplot as plt\n",
    "from sklearn.linear_model import LinearRegression\n",
    "\n",
    "# Import points\n",
    "df = pd.read_csv('https://bit.ly/3goOAnt', delimiter=\",\")\n",
    "\n",
    "# Extract input variables (all rows, all columns but last column)\n",
    "X = df.values[:, :-1]\n",
    "\n",
    "# Extract output column (all rows, last column)\n",
    "Y = df.values[:, -1]\n",
    "\n",
    "# Fit a line to the points\n",
    "fit = LinearRegression().fit(X, Y)\n",
    "\n",
    "# m = 1.7867224, b = -16.51923513\n",
    "m = fit.coef_.flatten()\n",
    "b = fit.intercept_.flatten()\n",
    "print(\"m = {0}\".format(m))\n",
    "print(\"b = {0}\".format(b))\n",
    "\n",
    "# show in chart\n",
    "plt.plot(X, Y, 'o') # scatterplot\n",
    "plt.plot(X, m*X+b) # line\n",
    "plt.show()"
   ]
  },
  {
   "cell_type": "code",
   "execution_count": 4,
   "metadata": {},
   "outputs": [
    {
     "name": "stdout",
     "output_type": "stream",
     "text": [
      "-1.67272\n",
      "1.3878900000000005\n",
      "-0.5515000000000008\n",
      "2.5091099999999997\n",
      "-0.4302799999999998\n",
      "-1.3696699999999993\n",
      "0.6909400000000012\n",
      "-2.2484499999999983\n",
      "2.812160000000002\n",
      "-1.1272299999999973\n"
     ]
    }
   ],
   "source": [
    "# #  The residual is the numeric difference between the line and the points\n",
    "\n",
    "#  Another name for residuals are errors, because they reflect how wrong our line is in predicting the data.\n",
    "\n",
    "# Calculating the residuals for a given line and data\n",
    "\n",
    "# Import points\n",
    "points = pd.read_csv('https://bit.ly/3goOAnt', delimiter=\",\").itertuples()\n",
    "\n",
    "# Test with a given line\n",
    "m = 1.93939\n",
    "b = 4.73333\n",
    "\n",
    "# calculate sum of squares\n",
    "for p in points:\n",
    "    y_actual = p.y\n",
    "    y_predict = m*p.x + b\n",
    "    residual = y_actual - y_predict\n",
    "    print(residual)"
   ]
  },
  {
   "cell_type": "code",
   "execution_count": 5,
   "metadata": {},
   "outputs": [],
   "source": [
    "# If we are fitting a straight line through our 10 data points, we likely want to minimize these residuals\n",
    "# in total so there is as little of a gap as possible between the line and points.\n",
    "# But how do we measure the “total”? The best approach is to take the sum of squares,\n",
    "# which simply squares each residual, or multiplies each residual by itself, \n",
    "# and sums them. We take each actual y value and subtract from it the predicted y value taken from the line,\n",
    "# then square and sum all those differences."
   ]
  },
  {
   "cell_type": "code",
   "execution_count": 6,
   "metadata": {},
   "outputs": [],
   "source": [
    "# You might wonder why we have to square the residuals before summing them.\n",
    "# Why not just add them up without squaring?\n",
    "# That will not work because the negatives will cancel out the positives.\n",
    "# What if we add the absolute values, where we turn all negative values into positive values?\n",
    "# That sounds promising but absolute values are mathematically inconvenient.\n",
    "# More specifically, absolute values do not work well with Calculus derivatives \n",
    "# which we are going to use later for gradient descent. \n",
    "# This is why we choose the squared residuals as our way of totaling the loss."
   ]
  },
  {
   "cell_type": "code",
   "execution_count": 7,
   "metadata": {},
   "outputs": [
    {
     "name": "stdout",
     "output_type": "stream",
     "text": [
      "sum of squares = 28.096969704500005\n"
     ]
    }
   ],
   "source": [
    "# Calculating the sum of squares for a given line and data\n",
    "\n",
    "points = pd.read_csv(\"https://bit.ly/2KF29Bd\").itertuples()\n",
    "\n",
    "# Test with a given line\n",
    "m = 1.93939\n",
    "b = 4.73333\n",
    "\n",
    "sum_of_squares = 0.0\n",
    "\n",
    "# calculate sum of squares\n",
    "for p in points:\n",
    "    y_actual = p.y\n",
    "    y_predict = m*p.x + b\n",
    "    residual_squared = (y_predict - y_actual)**2\n",
    "    sum_of_squares += residual_squared\n",
    "\n",
    "    \n",
    "print(\"sum of squares = {}\".format(sum_of_squares))"
   ]
  },
  {
   "cell_type": "code",
   "execution_count": 8,
   "metadata": {},
   "outputs": [
    {
     "name": "stdout",
     "output_type": "stream",
     "text": [
      "1.9393939393939394 4.7333333333333325\n"
     ]
    }
   ],
   "source": [
    "# Calculating m and b for a simple linear regression\n",
    "\n",
    "# Load the data\n",
    "points = list(pd.read_csv('https://bit.ly/2KF29Bd', delimiter=\",\").itertuples())\n",
    "\n",
    "n = len(points)\n",
    "\n",
    "m = (n*sum(p.x*p.y for p in points) - sum(p.x for p in points) *\n",
    "    sum(p.y for p in points)) / (n*sum(p.x**2 for p in points) -\n",
    "    sum(p.x for p in points)**2)\n",
    "\n",
    "b = (sum(p.y for p in points) / n) - m * sum(p.x for p in points) / n\n",
    "\n",
    "print(m, b)"
   ]
  },
  {
   "cell_type": "code",
   "execution_count": 11,
   "metadata": {},
   "outputs": [
    {
     "name": "stdout",
     "output_type": "stream",
     "text": [
      "[1.93939394 4.73333333]\n",
      "[ 6.67272727  8.61212121 10.55151515 12.49090909 14.43030303 16.36969697\n",
      " 18.30909091 20.24848485 22.18787879 24.12727273]\n"
     ]
    }
   ],
   "source": [
    "# Using inverse and transposed matrices to fit a linear regression\n",
    "\n",
    "import pandas as pd\n",
    "from numpy.linalg import inv,qr\n",
    "import numpy as np\n",
    "\n",
    "# Import points\n",
    "df = pd.read_csv('https://bit.ly/3goOAnt', delimiter=\",\")\n",
    "\n",
    "# Extract input variables (all rows, all columns but last column)\n",
    "X = df.values[:, :-1].flatten()\n",
    "\n",
    "# Add placeholder \"1\" column to generate intercept\n",
    "X_1 = np.vstack([X, np.ones(len(X))]).T\n",
    "\n",
    "# Extract output column (all rows, last column)\n",
    "Y = df.values[:, -1]\n",
    "\n",
    "# Calculate coefficents for slope and intercept\n",
    "b = inv(X_1.transpose() @ X_1) @ (X_1.transpose() @ Y)\n",
    "print(b) # [1.93939394 4.73333333]\n",
    "\n",
    "# Predict against the y-values\n",
    "y_predict = X_1.dot(b)\n",
    "\n",
    "print (y_predict)"
   ]
  },
  {
   "cell_type": "code",
   "execution_count": 12,
   "metadata": {},
   "outputs": [
    {
     "name": "stdout",
     "output_type": "stream",
     "text": [
      "[1.93939394 4.73333333]\n"
     ]
    }
   ],
   "source": [
    "# Using QR decomposition to perform a linear regression\n",
    "\n",
    "# Import points\n",
    "df = pd.read_csv('https://bit.ly/3goOAnt', delimiter=\",\")\n",
    "\n",
    "# Extract input variables (all rows, all columns but last column)\n",
    "X = df.values[:, :-1].flatten()\n",
    "\n",
    "# Add placeholder \"1\" column to generate intercept\n",
    "X_1 = np.vstack([X, np.ones(len(X))]).transpose()\n",
    "\n",
    "# Extract output column (all rows, last column)\n",
    "Y = df.values[:, -1]\n",
    "\n",
    "# calculate coefficents for slope and intercept\n",
    "# using QR decomposition\n",
    "Q, R = qr(X_1)\n",
    "b = inv(R).dot(Q.transpose()).dot(Y)\n",
    "\n",
    "print(b)\n"
   ]
  },
  {
   "cell_type": "code",
   "execution_count": 13,
   "metadata": {},
   "outputs": [
    {
     "name": "stdout",
     "output_type": "stream",
     "text": [
      "3.000000000000111 4.0\n"
     ]
    }
   ],
   "source": [
    "# Gradient descent is an optimization technique that uses derivatives and\n",
    "# iterations to minimize/maximize a set of parameters against an objective.\n",
    "\n",
    "# Using gradient descent to find the minimum of a parabola\n",
    "\n",
    "import random\n",
    "\n",
    "\n",
    "def f(x):\n",
    "    return (x - 3) ** 2 + 4\n",
    "\n",
    "def dx_f(x):\n",
    "    return 2*(x - 3)\n",
    "\n",
    "# The learning rate\n",
    "L = 0.001\n",
    "\n",
    "# The number of iterations to perform gradient descent\n",
    "iterations = 100_000\n",
    "\n",
    " # start at a random x\n",
    "x = random.randint(-15,15)\n",
    "\n",
    "for i in range(iterations):\n",
    "\n",
    "    # get slope\n",
    "    d_x = dx_f(x)\n",
    "\n",
    "    # update x by subtracting the (learning rate) * (slope)\n",
    "    x -= L * d_x\n",
    "\n",
    "print(x, f(x))"
   ]
  },
  {
   "cell_type": "code",
   "execution_count": 14,
   "metadata": {},
   "outputs": [
    {
     "name": "stdout",
     "output_type": "stream",
     "text": [
      "y = 1.9393939393939548x + 4.733333333333227\n"
     ]
    }
   ],
   "source": [
    "# Performing gradient descent for a linear regression\n",
    "\n",
    "# Import points from CSV\n",
    "points = list(pd.read_csv(\"https://bit.ly/2KF29Bd\").itertuples())\n",
    "\n",
    "# Building the model\n",
    "m = 0.0\n",
    "b = 0.0\n",
    "\n",
    "# The learning Rate\n",
    "L = .001\n",
    "\n",
    "# The number of iterations\n",
    "iterations = 100_000\n",
    "\n",
    "n = float(len(points))  # Number of elements in X\n",
    "\n",
    "# Perform Gradient Descent\n",
    "for i in range(iterations):\n",
    "\n",
    "    # slope with respect to m\n",
    "    D_m = sum(2 * p.x * ((m * p.x + b) - p.y) for p in points)\n",
    "\n",
    "    # slope with respect to b\n",
    "    D_b = sum(2 * ((m * p.x + b) - p.y) for p in points)\n",
    "\n",
    "    # update m and b\n",
    "    m -= L * D_m\n",
    "    b -= L * D_b\n",
    "\n",
    "print(\"y = {0}x + {1}\".format(m, b))"
   ]
  },
  {
   "cell_type": "code",
   "execution_count": 15,
   "metadata": {},
   "outputs": [
    {
     "name": "stdout",
     "output_type": "stream",
     "text": [
      "Sum(2*(b + m*x(i) - y(i))*x(i), (i, 0, n))\n",
      "Sum(2*b + 2*m*x(i) - 2*y(i), (i, 0, n))\n"
     ]
    }
   ],
   "source": [
    "# Calculating partial derivatives for m and b\n",
    "\n",
    "from sympy import *\n",
    "\n",
    "m, b, i, n = symbols('m b i n')\n",
    "x, y = symbols('x y', cls=Function)\n",
    "\n",
    "sum_of_squares = Sum((m*x(i) + b - y(i)) ** 2, (i, 0, n))\n",
    "\n",
    "d_m = diff(sum_of_squares, m)\n",
    "d_b = diff(sum_of_squares, b)\n",
    "print(d_m)\n",
    "print(d_b)"
   ]
  },
  {
   "cell_type": "code",
   "execution_count": 18,
   "metadata": {},
   "outputs": [
    {
     "name": "stdout",
     "output_type": "stream",
     "text": [
      "0 0.006 0.002\n",
      "10000 2.36326760682638 1.8835518624103165\n",
      "20000 2.208478682839455 2.860757272083633\n",
      "30000 2.0990271430034566 3.5015104981731477\n",
      "40000 2.059718240314351 3.918670691928773\n",
      "50000 2.0254319787495616 4.228272179662717\n",
      "60000 2.0128706983709828 4.3987557816635325\n",
      "70000 1.9588699155518574 4.511397889311558\n",
      "80000 1.9572242882073074 4.573105411192914\n",
      "90000 1.9603079930214902 4.646560110817617\n",
      "100000 1.915286401953193 4.679197268853813\n",
      "110000 1.9403467582673453 4.694118062444541\n",
      "120000 1.9599274086298113 4.725943861094068\n",
      "130000 1.9368722399981075 4.7143432848607825\n",
      "140000 1.963520934610125 4.71478629302077\n",
      "150000 1.9360986672130869 4.728305205329085\n",
      "160000 1.9324433155776284 4.741555567620757\n",
      "170000 1.926229705774608 4.7507334297890695\n",
      "180000 1.9432750003962185 4.731457564467172\n",
      "190000 1.9652083911680416 4.750695486563088\n",
      "200000 1.924857106440728 4.741023799177265\n",
      "210000 1.949168382522107 4.742302871466551\n",
      "220000 1.9482919821971325 4.732498280457749\n",
      "230000 1.9436648255769589 4.744293925905611\n",
      "240000 1.9705030140252286 4.742529291867208\n",
      "250000 1.9353429418031627 4.739497162984329\n",
      "260000 1.9562758398526634 4.738933645814807\n",
      "270000 1.9382884118185948 4.728545301878929\n",
      "280000 1.93255522206419 4.720959425792094\n",
      "290000 1.9410867423424232 4.719485579197047\n",
      "300000 1.928348444769958 4.709229998935416\n",
      "310000 1.944704859029115 4.734245656426094\n",
      "320000 1.9315489900068277 4.7164345649351676\n",
      "330000 1.939995611167781 4.709338225607842\n",
      "340000 1.961142019124275 4.705429525526002\n",
      "350000 1.9216025853518108 4.723954582852459\n",
      "360000 1.944900362530313 4.7252435418819125\n",
      "370000 1.9399721319259282 4.734938065834019\n",
      "380000 1.9497781564660994 4.742384445451385\n",
      "390000 1.9805381395468729 4.731931988681261\n",
      "400000 1.9454482978428054 4.730618875951833\n",
      "410000 1.9703383827976337 4.733665784535996\n",
      "420000 1.981650785600547 4.742295189046688\n",
      "430000 1.972530745570693 4.74071158972351\n",
      "440000 1.9111024810843704 4.726256650760091\n",
      "450000 1.9082781943786304 4.731152175860961\n",
      "460000 1.9204477114790428 4.739821573687611\n",
      "470000 1.9644981269863893 4.745855875675362\n",
      "480000 1.9263137432887223 4.743643371721059\n",
      "490000 1.91711757641405 4.74294635046912\n",
      "500000 1.930934583192176 4.74212184317665\n",
      "510000 1.967479133941378 4.736673843592278\n",
      "520000 1.9505228605459906 4.728075419769489\n",
      "530000 1.9516554472517902 4.728522913632032\n",
      "540000 1.9417919849569742 4.749508598760058\n",
      "550000 1.9611385059437294 4.766887931996634\n",
      "560000 1.9267487723441967 4.745625753029247\n",
      "570000 1.9160704416577639 4.735761047329838\n",
      "580000 1.929617903629193 4.721682821898547\n",
      "590000 1.9149289269251695 4.728326533479536\n",
      "600000 1.931097863515108 4.706517870443267\n",
      "610000 1.938513500360612 4.72158595083187\n",
      "620000 1.9654752270010292 4.727653810731125\n",
      "630000 1.9124274374663552 4.714167893880229\n",
      "640000 1.9460836587073391 4.721447016138792\n",
      "650000 1.9548197285647888 4.714751503819112\n",
      "660000 1.946696243788322 4.7234709202203105\n",
      "670000 1.943371459630136 4.722904788603818\n",
      "680000 1.9573802094954733 4.7256764624636\n",
      "690000 1.931115907669294 4.718575794959121\n",
      "700000 1.9262178442406925 4.7242553744409905\n",
      "710000 1.9584890714298269 4.707751870061937\n",
      "720000 1.91096125496631 4.732834014230203\n",
      "730000 1.9638450307901556 4.730820586569408\n",
      "740000 1.9376318945047226 4.742484193616451\n",
      "750000 1.9764575310410655 4.721173739823862\n",
      "760000 1.959201460128207 4.728725027441086\n",
      "770000 1.9616063379508497 4.745386968448955\n",
      "780000 1.9303406405244505 4.7324681138365285\n",
      "790000 1.9424228463604172 4.728831976971964\n",
      "800000 1.9043294280432401 4.69159602664981\n",
      "810000 1.9336889001186668 4.7071650308872695\n",
      "820000 1.9441607414771653 4.712772819341543\n",
      "830000 1.959822283009035 4.73382719635445\n",
      "840000 1.9453503711741207 4.724613103589071\n",
      "850000 1.9587792297040645 4.737822839830986\n",
      "860000 1.9157005293366143 4.722802115138588\n",
      "870000 1.9464146899956396 4.719103639727119\n",
      "880000 1.9111757048916815 4.714647715026774\n",
      "890000 1.9257806715010586 4.731873835908689\n",
      "900000 1.9534173041959169 4.722614847513641\n",
      "910000 1.9505340945508731 4.73813717689114\n",
      "920000 1.9330475833082221 4.73912605385538\n",
      "930000 1.9594103111947985 4.752444875710609\n",
      "940000 1.9415876754302852 4.754499178310029\n",
      "950000 1.9306788443386962 4.752825434666956\n",
      "960000 1.921548945614283 4.76041767073736\n",
      "970000 1.962487828671824 4.772474403778124\n",
      "980000 1.9865264430013605 4.754946770865421\n",
      "990000 1.9421834301828678 4.7535420839260265\n",
      "y = 1.9502363279513883x + 4.748196684882565\n"
     ]
    }
   ],
   "source": [
    "# Performing stochastic gradient descent for a linear regression\n",
    "\n",
    "\n",
    "# Input data\n",
    "data = pd.read_csv('https://bit.ly/2KF29Bd', header=0)\n",
    "\n",
    "X = data.iloc[:, 0].values\n",
    "Y = data.iloc[:, 1].values\n",
    "\n",
    "n = data.shape[0]  # rows\n",
    "\n",
    "# Building the model\n",
    "m = 0.0\n",
    "b = 0.0\n",
    "\n",
    "sample_size = 1  # sample size\n",
    "L = .0001  # The learning Rate\n",
    "epochs = 1_000_000  # The number of iterations to perform gradient descent\n",
    "\n",
    "# Performing Stochastic Gradient Descent\n",
    "for i in range(epochs):\n",
    "    idx = np.random.choice(n, sample_size, replace=False)\n",
    "    x_sample = X[idx]\n",
    "    y_sample = Y[idx]\n",
    "\n",
    "    # The current predicted value of Y\n",
    "    Y_pred = m * x_sample + b\n",
    "\n",
    "    # d/dm derivative of loss function\n",
    "    D_m = (-2 / sample_size) * sum(x_sample * (y_sample - Y_pred))\n",
    "\n",
    "    # d/db derivative of loss function\n",
    "    D_b = (-2 / sample_size) * sum(y_sample - Y_pred)\n",
    "    m = m - L * D_m  # Update m\n",
    "    b = b - L * D_b  # Update b\n",
    "\n",
    "    # print progress\n",
    "    if i % 10000 == 0:\n",
    "        print(i, m, b)\n",
    "\n",
    "print(\"y = {0}x + {1}\".format(m, b))"
   ]
  },
  {
   "cell_type": "code",
   "execution_count": 19,
   "metadata": {},
   "outputs": [],
   "source": [
    "# correlation coefficient, also called the Pearson correlation,\n",
    "# which measures the strength of the relationship between two variables as a value \n",
    "# between -1 and 1. A correlation coefficient closer to 0 indicates there is no correlation.\n",
    "# A correlation coefficient closer to 1 indicates a strong positive correlation,\n",
    "# meaning when one variable increases the other proportionally increases.\n",
    "# If it is closer to -1 then it indicates a strong negative correlation,\n",
    "# which means as one variable increases the other proportionally decreases."
   ]
  },
  {
   "cell_type": "code",
   "execution_count": 20,
   "metadata": {},
   "outputs": [
    {
     "name": "stdout",
     "output_type": "stream",
     "text": [
      "          x         y\n",
      "x  1.000000  0.957586\n",
      "y  0.957586  1.000000\n"
     ]
    }
   ],
   "source": [
    "# Using Pandas to see the correlation coefficent between every pair of variables\n",
    "\n",
    "# Read data into Pandas dataframe\n",
    "df = pd.read_csv('https://bit.ly/2KF29Bd', delimiter=\",\")\n",
    "\n",
    "# Print correlations between variables\n",
    "correlations = df.corr(method='pearson')\n",
    "print(correlations)\n"
   ]
  },
  {
   "cell_type": "code",
   "execution_count": 21,
   "metadata": {},
   "outputs": [
    {
     "name": "stdout",
     "output_type": "stream",
     "text": [
      "0.9575860952087218\n"
     ]
    }
   ],
   "source": [
    "# Calculating correlation coefficient from scratch in Python\n",
    "\n",
    "from math import sqrt\n",
    "\n",
    "# Import points from CSV\n",
    "points = list(pd.read_csv(\"https://bit.ly/2KF29Bd\").itertuples())\n",
    "n = len(points)\n",
    "\n",
    "numerator = n * sum(p.x * p.y for p in points) - \\\n",
    "            sum(p.x for p in points) * sum(p.y for p in points)\n",
    "\n",
    "denominator = sqrt(n*sum(p.x**2 for p in points) - sum(p.x for p in points)**2) \\\n",
    "              * sqrt(n*sum(p.y**2 for p in points) - sum(p.y for p in points)**2)\n",
    "\n",
    "corr = numerator / denominator\n",
    "\n",
    "print(corr)"
   ]
  },
  {
   "cell_type": "code",
   "execution_count": 22,
   "metadata": {},
   "outputs": [
    {
     "name": "stdout",
     "output_type": "stream",
     "text": [
      "-2.262157162740992 2.2621571627409915\n"
     ]
    }
   ],
   "source": [
    "#  Calculating the critical value from a T-distribution\n",
    "\n",
    "from scipy.stats import t\n",
    "\n",
    "n = 10\n",
    "lower_cv = t(n-1).ppf(.025)\n",
    "upper_cv = t(n-1).ppf(.975)\n",
    "\n",
    "print(lower_cv, upper_cv)"
   ]
  },
  {
   "cell_type": "code",
   "execution_count": 23,
   "metadata": {},
   "outputs": [
    {
     "name": "stdout",
     "output_type": "stream",
     "text": [
      "TEST VALUE: 9.399564671312076\n",
      "CRITICAL RANGE: -2.262157162740992, 2.2621571627409915\n",
      "CORRELATION PROVEN, REJECT H0\n",
      "P-VALUE: 5.9763860877914965e-06\n"
     ]
    }
   ],
   "source": [
    "# Testing significance for linear-looking data\n",
    "\n",
    "from scipy.stats import t\n",
    "from math import sqrt\n",
    "\n",
    "# sample size\n",
    "n = 10\n",
    "\n",
    "lower_cv = t(n-1).ppf(.025)\n",
    "upper_cv = t(n-1).ppf(.975)\n",
    "\n",
    "# correlation coefficient\n",
    "# derived from data https://bit.ly/2KF29Bd\n",
    "r = 0.957586\n",
    "\n",
    "# Perform the test\n",
    "test_value = r / sqrt((1-r**2) / (n-2))\n",
    "\n",
    "print(\"TEST VALUE: {}\".format(test_value))\n",
    "print(\"CRITICAL RANGE: {}, {}\".format(lower_cv, upper_cv))\n",
    "\n",
    "if test_value < lower_cv or test_value > upper_cv:\n",
    "    print(\"CORRELATION PROVEN, REJECT H0\")\n",
    "else:\n",
    "    print(\"CORRELATION NOT PROVEN, FAILED TO REJECT H0 \")\n",
    "\n",
    "# Calculate p-value\n",
    "if test_value > 0:\n",
    "    p_value = 1.0 - t(n-1).cdf(test_value)\n",
    "else:\n",
    "    p_value = t(n-1).cdf(test_value)\n",
    "\n",
    "# Two-tailed, so multiply by 2\n",
    "p_value = p_value * 2\n",
    "print(\"P-VALUE: {}\".format(p_value))"
   ]
  },
  {
   "cell_type": "code",
   "execution_count": 24,
   "metadata": {},
   "outputs": [
    {
     "name": "stdout",
     "output_type": "stream",
     "text": [
      "          x         y\n",
      "x  1.000000  0.916971\n",
      "y  0.916971  1.000000\n"
     ]
    }
   ],
   "source": [
    "# Creating a correlation matrix in Pandas\n",
    "\n",
    "# Read data into Pandas dataframe\n",
    "df = pd.read_csv('https://bit.ly/2KF29Bd', delimiter=\",\")\n",
    "\n",
    "# Print correlations between variables\n",
    "coeff_determination = df.corr(method='pearson') ** 2\n",
    "print(coeff_determination)"
   ]
  },
  {
   "cell_type": "code",
   "execution_count": 25,
   "metadata": {},
   "outputs": [
    {
     "name": "stdout",
     "output_type": "stream",
     "text": [
      "16.462516875955465 25.966483124044537\n"
     ]
    }
   ],
   "source": [
    "# Calculating a prediction interval of vet visits for a dog that’s 8.5 years old\n",
    "\n",
    "from math import sqrt\n",
    "\n",
    "# Load the data\n",
    "points = list(pd.read_csv('https://bit.ly/2KF29Bd', delimiter=\",\").itertuples())\n",
    "\n",
    "n = len(points)\n",
    "\n",
    "# Linear Regression Line\n",
    "m = 1.939\n",
    "b = 4.733\n",
    "\n",
    "# Calculate Prediction Interval for x = 8.5\n",
    "x_0 = 8.5\n",
    "x_mean = sum(p.x for p in points) / len(points)\n",
    "\n",
    "t_value = t(n - 2).ppf(.975)\n",
    "\n",
    "standard_error = sqrt(sum((p.y - (m * p.x + b)) ** 2 for p in points) / (n - 2))\n",
    "\n",
    "margin_of_error = t_value * standard_error * \\\n",
    "                  sqrt(1 + (1 / n) + (n * (x_0 - x_mean) ** 2) / \\\n",
    "                       (n * sum(p.x ** 2 for p in points) - sum(p.x for p in points) ** 2))\n",
    "\n",
    "predicted_y = m*x_0 + b\n",
    "\n",
    "# Calculate prediction interval\n",
    "print(predicted_y - margin_of_error, predicted_y + margin_of_error)"
   ]
  },
  {
   "cell_type": "code",
   "execution_count": 26,
   "metadata": {},
   "outputs": [
    {
     "name": "stdout",
     "output_type": "stream",
     "text": [
      "R^2: 0.993\n"
     ]
    }
   ],
   "source": [
    "# Doing a train/test split on linear regression\n",
    "\n",
    "from sklearn.linear_model import LinearRegression\n",
    "from sklearn.model_selection import train_test_split\n",
    "\n",
    "# Load the data\n",
    "df = pd.read_csv('https://bit.ly/3cIH97A', delimiter=\",\")\n",
    "\n",
    "# Extract input variables (all rows, all columns but last column)\n",
    "X = df.values[:, :-1]\n",
    "\n",
    "# Extract output column (all rows, last column)\n",
    "Y = df.values[:, -1]\n",
    "\n",
    "# Separate training and testing data\n",
    "# This leaves a third of the data out for testing\n",
    "X_train, X_test, Y_train, Y_test = train_test_split(X, Y, test_size=1/3)\n",
    "\n",
    "model = LinearRegression()\n",
    "model.fit(X_train, Y_train)\n",
    "result = model.score(X_test, Y_test)\n",
    "print(\"R^2: %.3f\" % result)"
   ]
  },
  {
   "cell_type": "code",
   "execution_count": 27,
   "metadata": {},
   "outputs": [
    {
     "name": "stdout",
     "output_type": "stream",
     "text": [
      "[0.99337354 0.99345032 0.99251425]\n",
      "MSE: mean=0.993 (stdev-0.000)\n"
     ]
    }
   ],
   "source": [
    "# Using 3-fold cross validation for a linear regression\n",
    "\n",
    "\n",
    "from sklearn.linear_model import LinearRegression\n",
    "from sklearn.model_selection import KFold, cross_val_score\n",
    "\n",
    "df = pd.read_csv('https://bit.ly/3cIH97A', delimiter=\",\")\n",
    "\n",
    "# Extract input variables (all rows, all columns but last column)\n",
    "X = df.values[:, :-1]\n",
    "\n",
    "# Extract output column (all rows, last column)\\\n",
    "Y = df.values[:, -1]\n",
    "\n",
    "# Perform a simple linear regression\n",
    "kfold = KFold(n_splits=3, random_state=7, shuffle=True)\n",
    "model = LinearRegression()\n",
    "results = cross_val_score(model, X, Y, cv=kfold)\n",
    "print(results)\n",
    "print(\"MSE: mean=%.3f (stdev-%.3f)\" % (results.mean(), results.std()))"
   ]
  },
  {
   "cell_type": "code",
   "execution_count": 28,
   "metadata": {},
   "outputs": [
    {
     "name": "stdout",
     "output_type": "stream",
     "text": [
      "[0.99337354 0.99345032 0.99251425]\n",
      "MSE: mean=0.993 (stdev-0.000)\n"
     ]
    }
   ],
   "source": [
    "# Using a random-fold validation for a linear regression\n",
    "\n",
    "\n",
    "from sklearn.linear_model import LinearRegression\n",
    "from sklearn.model_selection import KFold, cross_val_score\n",
    "\n",
    "df = pd.read_csv('https://bit.ly/3cIH97A', delimiter=\",\")\n",
    "\n",
    "# Extract input variables (all rows, all columns but last column)\n",
    "X = df.values[:, :-1]\n",
    "\n",
    "# Extract output column (all rows, last column)\\\n",
    "Y = df.values[:, -1]\n",
    "\n",
    "# Perform a simple linear regression\n",
    "kfold = KFold(n_splits=3, random_state=7, shuffle=True)\n",
    "model = LinearRegression()\n",
    "results = cross_val_score(model, X, Y, cv=kfold)\n",
    "print(results)\n",
    "print(\"MSE: mean=%.3f (stdev-%.3f)\" % (results.mean(), results.std()))"
   ]
  },
  {
   "cell_type": "code",
   "execution_count": 29,
   "metadata": {},
   "outputs": [
    {
     "name": "stdout",
     "output_type": "stream",
     "text": [
      "Coefficients = [2.00672647 3.00203798]\n",
      "Intercept = 20.109432820035963\n",
      "z = 20.109432820035963 + 2.0067264725128062x + 3.002037976646693y\n"
     ]
    }
   ],
   "source": [
    "#  A linear regressoin with two input variables\n",
    "\n",
    "# Load the data\n",
    "df = pd.read_csv('https://bit.ly/2X1HWH7', delimiter=\",\")\n",
    "\n",
    "# Extract input variables (all rows, all columns but last column)\n",
    "X = df.values[:, :-1]\n",
    "\n",
    "# Extract output column (all rows, last column)\\\n",
    "Y = df.values[:, -1]\n",
    "\n",
    "# Training\n",
    "fit = LinearRegression().fit(X, Y)\n",
    "\n",
    "# Print coefficients\n",
    "print(\"Coefficients = {0}\".format(fit.coef_))\n",
    "print(\"Intercept = {0}\".format(fit.intercept_))\n",
    "print(\"z = {0} + {1}x + {2}y\".format(fit.intercept_, fit.coef_[0], fit.coef_[1]))"
   ]
  },
  {
   "cell_type": "code",
   "execution_count": null,
   "metadata": {},
   "outputs": [],
   "source": []
  }
 ],
 "metadata": {
  "kernelspec": {
   "display_name": "Python 3",
   "language": "python",
   "name": "python3"
  },
  "language_info": {
   "codemirror_mode": {
    "name": "ipython",
    "version": 3
   },
   "file_extension": ".py",
   "mimetype": "text/x-python",
   "name": "python",
   "nbconvert_exporter": "python",
   "pygments_lexer": "ipython3",
   "version": "3.6.4"
  }
 },
 "nbformat": 4,
 "nbformat_minor": 2
}
