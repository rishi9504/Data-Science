{
 "cells": [
  {
   "cell_type": "code",
   "execution_count": 1,
   "metadata": {},
   "outputs": [],
   "source": [
    "# linear algebra concerns itself with linear systems, but represents them through vector spaces and matrices.\n"
   ]
  },
  {
   "cell_type": "code",
   "execution_count": 2,
   "metadata": {},
   "outputs": [
    {
     "name": "stdout",
     "output_type": "stream",
     "text": [
      "[3, 2]\n"
     ]
    }
   ],
   "source": [
    "#  vector is an arrow in space with a specific direction and length, often representing a piece of data.\n",
    "# It is the central building block to linear algebra, including matrices and linear transformations. \n",
    "\n",
    "\n",
    "# Declaring a vector in Python using a list\n",
    "\n",
    "v = [3, 2]\n",
    "print(v)"
   ]
  },
  {
   "cell_type": "code",
   "execution_count": 3,
   "metadata": {},
   "outputs": [
    {
     "name": "stdout",
     "output_type": "stream",
     "text": [
      "[3 2]\n"
     ]
    }
   ],
   "source": [
    "# Declaring a vector in Python using NumPy\n",
    "\n",
    "import numpy as np\n",
    "v = np.array([3, 2])\n",
    "print(v)\n"
   ]
  },
  {
   "cell_type": "code",
   "execution_count": 4,
   "metadata": {},
   "outputs": [
    {
     "name": "stdout",
     "output_type": "stream",
     "text": [
      "[4 1 2]\n"
     ]
    }
   ],
   "source": [
    "# Declaring a 3-dimensional vector in Python using NumPy\n",
    "\n",
    "v = np.array([4, 1, 2])\n",
    "print(v)\n"
   ]
  },
  {
   "cell_type": "code",
   "execution_count": 5,
   "metadata": {},
   "outputs": [
    {
     "name": "stdout",
     "output_type": "stream",
     "text": [
      "[5 1]\n"
     ]
    }
   ],
   "source": [
    "# Adding two vectors in Python using NumPy\n",
    "\n",
    "from numpy import array\n",
    "v = array([3,2])\n",
    "w = array([2,-1])\n",
    "\n",
    "# sum the vectors\n",
    "v_plus_w = v + w\n",
    "\n",
    "# display summed vector\n",
    "print(v_plus_w)"
   ]
  },
  {
   "cell_type": "code",
   "execution_count": 6,
   "metadata": {},
   "outputs": [
    {
     "name": "stdout",
     "output_type": "stream",
     "text": [
      "[6. 2.]\n"
     ]
    }
   ],
   "source": [
    "# Scaling a number in Python using NumPy\n",
    "\n",
    "v = array([3,1])\n",
    "\n",
    "# scale the vector\n",
    "scaled_v = 2.0 * v\n",
    "\n",
    "# display scaled vector\n",
    "print(scaled_v)"
   ]
  },
  {
   "cell_type": "code",
   "execution_count": 7,
   "metadata": {},
   "outputs": [],
   "source": [
    "# A matrix is a collection of vectors \n",
    "# , can have multiple rows and columns,\n",
    "# and is a convenient way to package data. "
   ]
  },
  {
   "cell_type": "code",
   "execution_count": 8,
   "metadata": {},
   "outputs": [
    {
     "name": "stdout",
     "output_type": "stream",
     "text": [
      "[3 2]\n"
     ]
    }
   ],
   "source": [
    "# Matrix vector multiplication in NumPy\n",
    "\n",
    "# compose basis matrix with i-hat and j-hat\n",
    "basis = array(\n",
    "    [[3, 0],\n",
    "     [0, 2]]\n",
    " )\n",
    "\n",
    "# declare vector v\n",
    "v = array([1,1])\n",
    "\n",
    "# create new vector\n",
    "# by transforming v with dot product\n",
    "new_v = basis.dot(v)\n",
    "\n",
    "print(new_v)"
   ]
  },
  {
   "cell_type": "code",
   "execution_count": 9,
   "metadata": {},
   "outputs": [
    {
     "name": "stdout",
     "output_type": "stream",
     "text": [
      "[2 3]\n"
     ]
    }
   ],
   "source": [
    "# When thinking in terms of basis vectors,\n",
    "# I prefer to break out the basis vectors and then compose them together into a matrix.\n",
    "# Just note you will need to transpose, or swap the columns and rows.\n",
    "# This is because NumPy’s array() function will do the opposite orientation we want,\n",
    "# populating each vector as a row rather than a column.\n",
    "\n",
    "# Declare i-hat and j-hat\n",
    "i_hat = array([2, 0])\n",
    "j_hat = array([0, 3])\n",
    "\n",
    "# compose basis matrix using i-hat and j-hat\n",
    "# also need to transpose rows into columns\n",
    "basis = array([i_hat, j_hat]).transpose()\n",
    "\n",
    "# declare vector v\n",
    "v = array([1,1])\n",
    "\n",
    "# create new vector\n",
    "# by transforming v with dot product\n",
    "new_v = basis.dot(v)\n",
    "\n",
    "print(new_v)"
   ]
  },
  {
   "cell_type": "code",
   "execution_count": 10,
   "metadata": {},
   "outputs": [
    {
     "name": "stdout",
     "output_type": "stream",
     "text": [
      "[4 3]\n"
     ]
    }
   ],
   "source": [
    "# Transforming a vector using NumPy\n",
    "\n",
    "# Declare i-hat and j-hat\n",
    "i_hat = array([2, 0])\n",
    "j_hat = array([0, 3])\n",
    "\n",
    "# compose basis matrix using i-hat and j-hat\n",
    "# also need to transpose rows into columns\n",
    "basis = array([i_hat, j_hat]).transpose()\n",
    "\n",
    "# declare vector v 0\n",
    "v = array([2,1])\n",
    "\n",
    "# create new vector\n",
    "# by transforming v with dot product\n",
    "new_v = basis.dot(v)\n",
    "\n",
    "print(new_v)"
   ]
  },
  {
   "cell_type": "code",
   "execution_count": 11,
   "metadata": {},
   "outputs": [
    {
     "name": "stdout",
     "output_type": "stream",
     "text": [
      "COMBINED MATRIX:\n",
      " [[ 1 -1]\n",
      " [ 1  0]]\n",
      "[-1  1]\n"
     ]
    }
   ],
   "source": [
    "# Transformation 1\n",
    "i_hat1 = array([0, 1])\n",
    "j_hat1 = array([-1, 0])\n",
    "transform1 = array([i_hat1, j_hat1]).transpose()\n",
    "\n",
    "# Transformation 2\n",
    "i_hat2 = array([1, 0])\n",
    "j_hat2 = array([1, 1])\n",
    "transform2 = array([i_hat2, j_hat2]).transpose()\n",
    "\n",
    "# Combine Transformations\n",
    "combined = transform2 @ transform1\n",
    "\n",
    "# Test\n",
    "print(\"COMBINED MATRIX:\\n {}\".format(combined))\n",
    "\n",
    "v = array([1, 2])\n",
    "print(combined.dot(v))"
   ]
  },
  {
   "cell_type": "code",
   "execution_count": 12,
   "metadata": {},
   "outputs": [
    {
     "name": "stdout",
     "output_type": "stream",
     "text": [
      "6.0\n"
     ]
    }
   ],
   "source": [
    "#  Determinants describe how much a sampled area in a vector space changes in scale with linear transformations,\n",
    "#     and this can provide helpful information about the transformation\n",
    "\n",
    "from numpy.linalg import det\n",
    "\n",
    "\n",
    "i_hat = array([3, 0])\n",
    "j_hat = array([0, 2])\n",
    "\n",
    "basis = array([i_hat, j_hat]).transpose()\n",
    "\n",
    "determinant = det(basis)\n",
    "\n",
    "print(determinant)"
   ]
  },
  {
   "cell_type": "code",
   "execution_count": 13,
   "metadata": {},
   "outputs": [
    {
     "name": "stdout",
     "output_type": "stream",
     "text": [
      "0.0\n"
     ]
    }
   ],
   "source": [
    "# testing for a 0 determinant is highly helpful to determine if a transformation has linear dependence.\n",
    "# When you encounter this you will likely find a difficult or unsolvable problem on your hands.\n",
    "\n",
    "i_hat = array([-2, 1])\n",
    "j_hat = array([3, -1.5])\n",
    "\n",
    "basis = array([i_hat, j_hat]).transpose()\n",
    "\n",
    "determinant = det(basis)\n",
    "\n",
    "print(determinant)"
   ]
  },
  {
   "cell_type": "code",
   "execution_count": 14,
   "metadata": {},
   "outputs": [
    {
     "name": "stdout",
     "output_type": "stream",
     "text": [
      "INVERSE: Matrix([[-1/2, 0, 1/3], [11/2, -2, -4/3], [-2, 1, 1/3]])\n",
      "IDENTITY: Matrix([[1, 0, 0], [0, 1, 0], [0, 0, 1]])\n"
     ]
    }
   ],
   "source": [
    "from sympy import *\n",
    "\n",
    "# 4x + 2y + 4z = 44\n",
    "# 5x + 3y + 7z = 56\n",
    "# 9x + 3y + 6z = 72\n",
    "\n",
    "A = Matrix([\n",
    "    [4, 2, 4],\n",
    "    [5, 3, 7],\n",
    "    [9, 3, 6]\n",
    "])\n",
    "\n",
    "# dot product between A and its inverse\n",
    "# will produce identity function\n",
    "inverse = A.inv()\n",
    "identity = inverse * A\n",
    "\n",
    "# prints Matrix([[-1/2, 0, 1/3], [11/2, -2, -4/3], [-2, 1, 1/3]])\n",
    "print(\"INVERSE: {}\".format(inverse))\n",
    "\n",
    "# prints Matrix([[1, 0, 0], [0, 1, 0], [0, 0, 1]])\n",
    "print(\"IDENTITY: {}\".format(identity))"
   ]
  },
  {
   "cell_type": "code",
   "execution_count": 18,
   "metadata": {},
   "outputs": [
    {
     "name": "stdout",
     "output_type": "stream",
     "text": [
      "[ 2. 34. -8.]\n"
     ]
    }
   ],
   "source": [
    "# 4x + 2y + 4z = 44\n",
    "# 5x + 3y + 7z = 56\n",
    "# 9x + 3y + 6z = 72\n",
    "from numpy import array\n",
    "\n",
    "from numpy.linalg import inv\n",
    "\n",
    "A = array([[4, 2, 4],[5, 3, 7],[9, 3, 6]])\n",
    "\n",
    "B = array([44,56,72])\n",
    "\n",
    "X = inv(A).dot(B)\n",
    "\n",
    "print(X)"
   ]
  },
  {
   "cell_type": "code",
   "execution_count": 19,
   "metadata": {},
   "outputs": [
    {
     "name": "stdout",
     "output_type": "stream",
     "text": [
      "EIGENVALUES\n",
      "[-0.46410162  6.46410162]\n",
      "\n",
      "EIGENVECTORS\n",
      "[[-0.80689822 -0.34372377]\n",
      " [ 0.59069049 -0.9390708 ]]\n"
     ]
    }
   ],
   "source": [
    "# Performing eigendecomposition in NumPy\n",
    "\n",
    "from numpy import array, diag\n",
    "from numpy.linalg import eig, inv\n",
    "\n",
    "A = array([\n",
    "    [1, 2],\n",
    "    [4, 5]\n",
    "])\n",
    "\n",
    "eigenvals, eigenvecs = eig(A)\n",
    "\n",
    "print(\"EIGENVALUES\")\n",
    "print(eigenvals)\n",
    "print(\"\\nEIGENVECTORS\")\n",
    "print(eigenvecs)"
   ]
  },
  {
   "cell_type": "code",
   "execution_count": null,
   "metadata": {},
   "outputs": [],
   "source": [
    "# Decomposing and recomposing a matrix in NumPy\n",
    "\n"
   ]
  }
 ],
 "metadata": {
  "kernelspec": {
   "display_name": "Python 3",
   "language": "python",
   "name": "python3"
  },
  "language_info": {
   "codemirror_mode": {
    "name": "ipython",
    "version": 3
   },
   "file_extension": ".py",
   "mimetype": "text/x-python",
   "name": "python",
   "nbconvert_exporter": "python",
   "pygments_lexer": "ipython3",
   "version": "3.6.4"
  }
 },
 "nbformat": 4,
 "nbformat_minor": 2
}
