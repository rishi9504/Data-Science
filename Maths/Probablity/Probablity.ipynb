{
 "cells": [
  {
   "cell_type": "code",
   "execution_count": 1,
   "metadata": {},
   "outputs": [],
   "source": [
    "# probability is the theoretical study of measuring certainty that an event will happen.\n",
    "# It is a foundational discipline for statistics, hypothesis testing, machine learning\n",
    "\n",
    "#  Probability is about quantifying predictions of events yet to happen,\n",
    "# whereas likelihood is measuring the frequency of events that already occurred.\n",
    "# In statistics and machine learning, \n",
    "# we often use likelihood (the past) in the form of data to predict probability (the future).\n"
   ]
  },
  {
   "cell_type": "code",
   "execution_count": 2,
   "metadata": {},
   "outputs": [],
   "source": [
    "# Probability is purely theoretical of how likely an event is to happen, and does not require data.\n",
    "# Statistics on the other hand cannot exist without data, and uses it to discover probability\n",
    "# and provides tools to decribe data."
   ]
  },
  {
   "cell_type": "code",
   "execution_count": 3,
   "metadata": {},
   "outputs": [],
   "source": [
    "# When there are two separate probabilities of two separate events,\n",
    "# but we want to find the probability that both events will occur together.\n",
    "# This is known as a joint probability."
   ]
  },
  {
   "cell_type": "code",
   "execution_count": 4,
   "metadata": {},
   "outputs": [],
   "source": [
    "# When we deal with “OR” operations with probabilities, this is known as a union probability."
   ]
  },
  {
   "cell_type": "code",
   "execution_count": 5,
   "metadata": {},
   "outputs": [],
   "source": [
    "# A probability topic that people easily get confused by is the concept of conditional probability,\n",
    "# which is the probability of an event A occuring given event B has occurred.\n"
   ]
  },
  {
   "cell_type": "code",
   "execution_count": 6,
   "metadata": {},
   "outputs": [
    {
     "name": "stdout",
     "output_type": "stream",
     "text": [
      "0.006538461538461539\n"
     ]
    }
   ],
   "source": [
    "# Using Bayes Theorem in Python\n",
    "\n",
    "p_coffee_drinker = .65\n",
    "p_cancer = .005\n",
    "p_coffee_drinker_given_cancer = .85\n",
    "\n",
    "p_cancer_given_coffee_drinker = p_coffee_drinker_given_cancer *p_cancer / p_coffee_drinker\n",
    "\n",
    "\n",
    "print(p_cancer_given_coffee_drinker)"
   ]
  },
  {
   "cell_type": "code",
   "execution_count": 7,
   "metadata": {},
   "outputs": [],
   "source": [
    "# binomial distribution, which measures how likely k successes can happen out of n trials given p probability."
   ]
  },
  {
   "cell_type": "code",
   "execution_count": 8,
   "metadata": {},
   "outputs": [
    {
     "name": "stdout",
     "output_type": "stream",
     "text": [
      "0 - 9.99999999999996e-11\n",
      "1 - 8.999999999999996e-09\n",
      "2 - 3.644999999999996e-07\n",
      "3 - 8.748000000000003e-06\n",
      "4 - 0.0001377809999999999\n",
      "5 - 0.0014880347999999988\n",
      "6 - 0.011160260999999996\n",
      "7 - 0.05739562800000001\n",
      "8 - 0.19371024449999993\n",
      "9 - 0.38742048900000037\n",
      "10 - 0.34867844010000004\n"
     ]
    }
   ],
   "source": [
    "#  we use SciPy’s binom.pmf() function (PMF stands for “probability mass function”)\n",
    "# to print all 11 probabilities for our binomial distribution from 0 to 10 successes.\n",
    "\n",
    "from scipy.stats import binom\n",
    "\n",
    "n = 10\n",
    "p = 0.9\n",
    "\n",
    "for k in range(n + 1):\n",
    "    probability = binom.pmf(k, n, p)\n",
    "    print(\"{0} - {1}\".format(k, probability))"
   ]
  },
  {
   "cell_type": "code",
   "execution_count": 9,
   "metadata": {},
   "outputs": [
    {
     "name": "stdout",
     "output_type": "stream",
     "text": [
      "0.7748409780000001\n"
     ]
    }
   ],
   "source": [
    "#  The beta distribution allows us to see the likelihood of different underlying probabilities\n",
    "#     for an event to occur given alpha successes and beta failures.\n",
    "\n",
    "from scipy.stats import beta\n",
    "\n",
    "a = 8\n",
    "b = 2\n",
    "\n",
    "p = beta.cdf(.90, a, b)\n",
    "\n",
    "print(p)"
   ]
  },
  {
   "cell_type": "code",
   "execution_count": 12,
   "metadata": {},
   "outputs": [
    {
     "name": "stdout",
     "output_type": "stream",
     "text": [
      "Probability of choosing heads is 0.5\n"
     ]
    }
   ],
   "source": [
    "# Creating a sample space of coin flips\n",
    "\n",
    "sample_space = {'Heads', 'Tails'}\n",
    "\n",
    "# Computing the probability of heads\n",
    "probability_heads = 1 / len(sample_space)\n",
    "print(f'Probability of choosing heads is {probability_heads}')"
   ]
  },
  {
   "cell_type": "code",
   "execution_count": 13,
   "metadata": {},
   "outputs": [],
   "source": [
    "# Let’s define two event conditions:\n",
    "#     one where the coin lands on either heads or tails,\n",
    "#     and another where the coin lands on neither heads nor tails.\n",
    "\n",
    "def is_heads_or_tails(outcome):  return outcome in {'Heads', 'Tails'}\n",
    "def is_neither(outcome): return not is_heads_or_tails(outcome)"
   ]
  },
  {
   "cell_type": "code",
   "execution_count": 14,
   "metadata": {},
   "outputs": [],
   "source": [
    "#  let’s define event conditions for the two basic events\n",
    "#     in which the coin satisfies exactly one of our two potential outcomes.\n",
    "def is_heads(outcome): return outcome == 'Heads'\n",
    "def is_tails(outcome): return outcome == 'Tails'"
   ]
  },
  {
   "cell_type": "code",
   "execution_count": 15,
   "metadata": {},
   "outputs": [],
   "source": [
    "#  Defining an event-detection function\n",
    "def get_matching_event(event_condition, sample_space):\n",
    "    return set([outcome for outcome in sample_space\n",
    "                if event_condition(outcome)])"
   ]
  },
  {
   "cell_type": "code",
   "execution_count": 16,
   "metadata": {},
   "outputs": [
    {
     "name": "stdout",
     "output_type": "stream",
     "text": [
      "Event Condition: is_heads_or_tails\n",
      "Event: {'Tails', 'Heads'}\n",
      "\n",
      "Event Condition: is_heads\n",
      "Event: {'Heads'}\n",
      "\n",
      "Event Condition: is_tails\n",
      "Event: {'Tails'}\n",
      "\n",
      "Event Condition: is_neither\n",
      "Event: set()\n",
      "\n"
     ]
    }
   ],
   "source": [
    "# Detecting event using event conditions\n",
    "\n",
    "event_conditions = [is_heads_or_tails, is_heads, is_tails, is_neither]\n",
    " \n",
    "for event_condition in event_conditions:\n",
    "    print(f\"Event Condition: {event_condition.__name__}\")\n",
    "    event = get_matching_event(event_condition, sample_space)\n",
    "    print(f'Event: {event}\\n')"
   ]
  },
  {
   "cell_type": "code",
   "execution_count": 18,
   "metadata": {},
   "outputs": [
    {
     "name": "stdout",
     "output_type": "stream",
     "text": [
      "Probability of event arising from 'is_heads_or_tails' is 1.0\n",
      "Probability of event arising from 'is_heads' is 0.5\n",
      "Probability of event arising from 'is_tails' is 0.5\n",
      "Probability of event arising from 'is_neither' is 0.0\n"
     ]
    }
   ],
   "source": [
    "#  Computing event probabilities\n",
    "\n",
    "\n",
    "def compute_probability(event_condition, generic_sample_space):\n",
    "    event = get_matching_event(event_condition, generic_sample_space)\n",
    "    return len(event) / len(generic_sample_space)\n",
    " \n",
    "for event_condition in event_conditions:\n",
    "    prob = compute_probability(event_condition, sample_space)\n",
    "    name = event_condition.__name__\n",
    "    print(f\"Probability of event arising from '{name}' is {prob}\")"
   ]
  },
  {
   "cell_type": "code",
   "execution_count": 19,
   "metadata": {},
   "outputs": [],
   "source": [
    "# We computed probabilities for an unbiased coin.\n",
    "# What would happen if that coin was biased?\n",
    "# Suppose, for instance, that a coin is four times more likely to land on heads relative to tails.\n",
    "# How do we compute the likelihoods of outcomes that are not weighted in an equal manner?\n",
    "# Well, we can construct a weighted sample space represented by a Python dictionary.\n",
    "# Each outcome is treated as a key whose value maps to the associated weight.\n",
    "\n"
   ]
  },
  {
   "cell_type": "code",
   "execution_count": 20,
   "metadata": {},
   "outputs": [],
   "source": [
    "# Representing a weighted sample space\n",
    "weighted_sample_space = {'Heads': 4, 'Tails': 1}"
   ]
  },
  {
   "cell_type": "code",
   "execution_count": 21,
   "metadata": {},
   "outputs": [],
   "source": [
    "# Checking the weighted sample space size\n",
    "\n",
    "sample_space_size = sum(weighted_sample_space.values())\n",
    "assert sample_space_size == 5"
   ]
  },
  {
   "cell_type": "code",
   "execution_count": 22,
   "metadata": {},
   "outputs": [],
   "source": [
    "# Checking the weighted event size\n",
    "\n",
    "event = get_matching_event(is_heads_or_tails, weighted_sample_space)\n",
    "event_size = sum(weighted_sample_space[outcome] for outcome in event)\n",
    "assert event_size == 5"
   ]
  },
  {
   "cell_type": "code",
   "execution_count": 23,
   "metadata": {},
   "outputs": [],
   "source": [
    "# Our generalized definitions of sample space size and event size permit us to create a compute_event_probability function.\n",
    "# The function takes as input a generic_sample_ space variable that can be either a weighted dictionary or an unweighted set.\n",
    "\n",
    "def compute_event_probability(event_condition, generic_sample_space):\n",
    "    event = get_matching_event(event_condition, generic_sample_space)\n",
    "    if type(generic_sample_space) == type(set()):\n",
    "        return len(event) / len(generic_sample_space)\n",
    " \n",
    "    event_size = sum(generic_sample_space[outcome]\n",
    "                     for outcome in event)\n",
    "    return event_size / sum(generic_sample_space.values())"
   ]
  },
  {
   "cell_type": "code",
   "execution_count": 24,
   "metadata": {},
   "outputs": [
    {
     "name": "stdout",
     "output_type": "stream",
     "text": [
      "Probability of event arising from 'is_heads_or_tails' is 1.0\n",
      "Probability of event arising from 'is_heads' is 0.8\n",
      "Probability of event arising from 'is_tails' is 0.2\n",
      "Probability of event arising from 'is_neither' is 0.0\n"
     ]
    }
   ],
   "source": [
    "# We can now output all the event probabilities for the biased coin\n",
    "# without needing to redefine our four event condition functions.\n",
    "\n",
    "for event_condition in event_conditions:\n",
    "    prob = compute_event_probability(event_condition, weighted_sample_space)\n",
    "    name = event_condition.__name__\n",
    "    print(f\"Probability of event arising from '{name}' is {prob}\")"
   ]
  },
  {
   "cell_type": "code",
   "execution_count": 25,
   "metadata": {},
   "outputs": [],
   "source": [
    "# Suppose a family has four children. What is the probability that exactly two of the children are boys?\n",
    "\n",
    "# Computing the sample space of children\n",
    "\n",
    "possible_children = ['Boy', 'Girl']\n",
    "sample_space = set()\n",
    "for child1 in possible_children:\n",
    "    for child2 in possible_children:\n",
    "        for child3 in possible_children:\n",
    "            for child4 in possible_children:\n",
    "                outcome = (child1, child2, child3, child4)\n",
    "                sample_space.add(outcome)"
   ]
  },
  {
   "cell_type": "code",
   "execution_count": 26,
   "metadata": {},
   "outputs": [],
   "source": [
    "# We ran four nested for loops to explore the sequence of four births.\n",
    "# This is not an efficient use of code.\n",
    "# We can more easily generate our sample space using Python’s built-in itertools.product function,\n",
    "# which returns all pairwise combinations of all elements across all input lists.\n",
    "# Next, we input four instances of the possible_children list into itertools.product.\n",
    "# The product function then iterates over all four instances of the list, computing all the combinations of list elements.\n",
    "# The final output equals our sample space.\n",
    "\n",
    "from itertools import product\n",
    "all_combinations = product(*(4 * [possible_children]))\n",
    "assert set(all_combinations) == sample_space"
   ]
  },
  {
   "cell_type": "code",
   "execution_count": 27,
   "metadata": {},
   "outputs": [],
   "source": [
    "# more efficiency\n",
    "\n",
    "sample_space_efficient = set(product(possible_children, repeat=4))\n",
    "assert sample_space == sample_space_efficient"
   ]
  },
  {
   "cell_type": "code",
   "execution_count": 28,
   "metadata": {},
   "outputs": [
    {
     "name": "stdout",
     "output_type": "stream",
     "text": [
      "Probability of 2 boys is 0.375\n"
     ]
    }
   ],
   "source": [
    "# Computing the probablity of two boys\n",
    "\n",
    "def has_two_boys(outcome): return len([child for child in outcome\n",
    "                                      if child == 'Boy']) == 2\n",
    "prob = compute_event_probability(has_two_boys, sample_space)\n",
    "print(f\"Probability of 2 boys is {prob}\")"
   ]
  },
  {
   "cell_type": "code",
   "execution_count": null,
   "metadata": {},
   "outputs": [],
   "source": []
  }
 ],
 "metadata": {
  "kernelspec": {
   "display_name": "Python 3",
   "language": "python",
   "name": "python3"
  },
  "language_info": {
   "codemirror_mode": {
    "name": "ipython",
    "version": 3
   },
   "file_extension": ".py",
   "mimetype": "text/x-python",
   "name": "python",
   "nbconvert_exporter": "python",
   "pygments_lexer": "ipython3",
   "version": "3.6.4"
  }
 },
 "nbformat": 4,
 "nbformat_minor": 2
}
